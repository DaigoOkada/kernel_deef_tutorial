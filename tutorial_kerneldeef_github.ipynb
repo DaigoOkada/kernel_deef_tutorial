{
 "cells": [
  {
   "cell_type": "markdown",
   "metadata": {},
   "source": [
    "## Tutorial for kernel DEEF\n",
    "\n",
    "This document is a Python tutorial to analyze the dissimilarity of scRNA-seq data using the kernek DEEF method."
   ]
  },
  {
   "cell_type": "code",
   "execution_count": 1,
   "metadata": {},
   "outputs": [],
   "source": [
    "#Import modules\n",
    "import pandas as pd\n",
    "import numpy as np\n",
    "from multiprocessing import Pool\n",
    "import matplotlib.pyplot as plt"
   ]
  },
  {
   "cell_type": "markdown",
   "metadata": {},
   "source": [
    "## Prepare your data\n",
    "\n",
    "The sample data is the expression array with cell * gene * subject and labels of subjects."
   ]
  },
  {
   "cell_type": "code",
   "execution_count": 2,
   "metadata": {},
   "outputs": [],
   "source": [
    "#load data\n",
    "dat = np.load(\"uc_data.npy\") #array with 672 cell * 876 gene * 15 subject\n",
    "y_labels = pd.read_csv(\"true_lab.csv\",index_col=0).values[:,0] #labels of subjects\n",
    "ncores = 2 #number of cores of parallel computing"
   ]
  },
  {
   "cell_type": "markdown",
   "metadata": {},
   "source": [
    "## Calculate inner product matrix among subjects"
   ]
  },
  {
   "cell_type": "code",
   "execution_count": 3,
   "metadata": {},
   "outputs": [],
   "source": [
    "#Define the function for paralell computing\n",
    "def kernel_ip(sample_idx, cellmararray):\n",
    "    data1 = cellmararray[:,:,sample_idx]\n",
    "    n1 = cellmararray.shape[0]\n",
    "    p = cellmararray.shape[1]\n",
    "    nn = cellmararray.shape[2]\n",
    "    gamma = 1/p\n",
    "    ip_row = np.zeros(nn)\n",
    "    for j in range(sample_idx, nn):\n",
    "        data2 = cellmararray[:,:,j]\n",
    "        n2 = data2.shape[0]\n",
    "        ip_vec = np.zeros(n1)\n",
    "        for i in range(n1):\n",
    "            ip_vec[i] = np.exp((((data2 - data1[i,])**2).sum(axis=1))*(-gamma)).sum()\n",
    "        ip_row[j] = ip_vec.sum()/(n1*n2)\n",
    "    return(ip_row)\n",
    "\n",
    "def wrapper_kernel_ip(args):\n",
    "    return kernel_ip(args, cellmararray=dat)\n",
    "\n",
    "#calculation\n",
    "fn = len(y_labels) # number of subjects\n",
    "with Pool(processes=ncores) as pro:\n",
    "        res = pro.map(wrapper_kernel_ip,range(fn))\n",
    "\n",
    "ip_mat = np.zeros([fn,fn])\n",
    "for i in range(len(res)):\n",
    "    ip_mat[i,:] = res[i]\n",
    "ip_mat2 = np.zeros([fn, fn])\n",
    "for i in range(fn):\n",
    "    for j in range(i,fn):\n",
    "        ip_mat2[i,j] = ip_mat[i,j]\n",
    "        ip_mat2[j,i] = ip_mat[i,j]"
   ]
  },
  {
   "cell_type": "markdown",
   "metadata": {},
   "source": [
    "## Calculate theta coordinates matrix based on subjects by subjects inner product matrix"
   ]
  },
  {
   "cell_type": "code",
   "execution_count": 4,
   "metadata": {},
   "outputs": [],
   "source": [
    "#Decomposition of inner product matrix\n",
    "def deef(ip_mat):\n",
    "    ip_mat = np.asarray(ip_mat)\n",
    "    theta_ip_est_mat = np.log(ip_mat)/2\n",
    "    eigen_value, V = np.linalg.eig(theta_ip_est_mat)\n",
    "    Sigma = np.diag(np.sqrt(np.abs(eigen_value)))\n",
    "    Theta_all = np.dot(V, Sigma)\n",
    "    res = [Theta_all, eigen_value]\n",
    "    return(res)\n",
    "\n",
    "Theta_all, eigen_value = deef(ip_mat2)\n",
    "Theta = Theta_all[:,eigen_value>=0]"
   ]
  },
  {
   "cell_type": "markdown",
   "metadata": {},
   "source": [
    "## Visualization of the difference among single cell expression profiles"
   ]
  },
  {
   "cell_type": "code",
   "execution_count": 5,
   "metadata": {},
   "outputs": [
    {
     "data": {
      "image/png": "[encoded data removed]",
      "text/plain": [
       "<Figure size 432x288 with 1 Axes>"
      ]
     },
     "metadata": {
      "needs_background": "light"
     },
     "output_type": "display_data"
    }
   ],
   "source": [
    "fig = plt.figure()\n",
    "plt.scatter(Theta[y_labels == \"C\", 0], Theta[y_labels == \"C\", 1], color=\"red\", label=\"Control\")\n",
    "plt.scatter(Theta[y_labels == \"U\", 0], Theta[y_labels == \"U\", 1], color=\"blue\", label=\"UC\")\n",
    "plt.title(\"Theta coordinates\", fontsize=18)\n",
    "plt.xlabel(\"theta1\", fontsize=18)\n",
    "plt.ylabel(\"theta2\", fontsize=18)\n",
    "plt.legend(bbox_to_anchor=(1.5, 1.0),loc=\"upper right\",fontsize=18)\n",
    "plt.show()"
   ]
  },
  {
   "cell_type": "code",
   "execution_count": null,
   "metadata": {},
   "outputs": [],
   "source": []
  }
 ],
 "metadata": {
  "kernelspec": {
   "display_name": "Python 3",
   "language": "python",
   "name": "python3"
  },
  "language_info": {
   "codemirror_mode": {
    "name": "ipython",
    "version": 3
   },
   "file_extension": ".py",
   "mimetype": "text/x-python",
   "name": "python",
   "nbconvert_exporter": "python",
   "pygments_lexer": "ipython3",
   "version": "3.7.4"
  }
 },
 "nbformat": 4,
 "nbformat_minor": 4
}
